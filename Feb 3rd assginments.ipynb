{
 "cells": [
  {
   "cell_type": "code",
   "execution_count": null,
   "metadata": {},
   "outputs": [],
   "source": [
    "2.\n",
    "st1 = {89,22,'550','6661','107',39,41,57,97,11 }\n",
    "   process element by element from the set\n",
    "   find how many numbers are prime\n",
    "   find the highest prime number"
   ]
  },
  {
   "cell_type": "code",
   "execution_count": 1,
   "metadata": {},
   "outputs": [
    {
     "data": {
      "text/plain": [
       "({11, 41, 89, 97}, 'highest prime number =', 97)"
      ]
     },
     "execution_count": 1,
     "metadata": {},
     "output_type": "execute_result"
    }
   ],
   "source": [
    "#####\n",
    "class prime():\n",
    "    def func1(self):\n",
    "        st1 = {89,22,'550','6661','107',39,41,57,97,11}\n",
    "        prime_list=set()\n",
    "        for j in st1:\n",
    "            if int(j)!=j:\n",
    "                continue\n",
    "            elif j>1:\n",
    "                for k in range(2,j):\n",
    "                    if (j%k)==0:\n",
    "                        break\n",
    "                else:\n",
    "                    prime=set()\n",
    "                    prime_list.add(j)\n",
    "        prime_list1=list(prime_list)\n",
    "        prime_list1.sort()\n",
    "        return(prime_list,\"highest prime number =\",prime_list1[-1])\n",
    "        \n",
    "obj1=prime()        \n",
    "obj1.func1()"
   ]
  },
  {
   "cell_type": "code",
   "execution_count": null,
   "metadata": {},
   "outputs": [],
   "source": [
    "3.\n",
    "lst1 = ['900',10,22,'561',778,1000,'1',21,'332']\n",
    "   process the lst1 , converts the string to the int and add all the numbers\n",
    "   in the lst1\n",
    "   Find the second highest\n",
    "   Find the third lowest number\n"
   ]
  },
  {
   "cell_type": "code",
   "execution_count": 158,
   "metadata": {},
   "outputs": [
    {
     "data": {
      "text/plain": [
       "('second hight no=', 900, '\\n', 'third lowest no =', 22)"
      ]
     },
     "execution_count": 158,
     "metadata": {},
     "output_type": "execute_result"
    }
   ],
   "source": [
    "####\n",
    "class Analys_list():\n",
    "    def define_list(self):\n",
    "        self.lst12 = ['900',10,22,'561',778,1000,'1',21,'332']\n",
    "        for i in self.lst12:\n",
    "            if int(i)!=i:\n",
    "                convert_int=int(i)\n",
    "                self.lst12[self.lst12.index(i)]=convert_int\n",
    "        return(self.lst12)\n",
    "    def sort_list(self):\n",
    "        self.lst12.sort()\n",
    "        return(\"second hight no=\",self.lst12[-2],\"\\n\",\"third lowest no =\",self.lst12[3])\n",
    "obj2=Analys_list()\n",
    "obj2.define_list()\n",
    "obj2.sort_list()\n",
    "\n"
   ]
  },
  {
   "cell_type": "code",
   "execution_count": null,
   "metadata": {},
   "outputs": [],
   "source": [
    "4.\n",
    "str1 = 'India:is:a:country:in:Asia.:Capital:of:India:is:New:Delhi'\n",
    "   split the string on ':' basis\n",
    "   iterate the result after you slit and display all the names in reverse\n",
    "   store the reverse EACH name in some set1\n",
    "   example reverse of India is aidnI and so on...."
   ]
  },
  {
   "cell_type": "code",
   "execution_count": 32,
   "metadata": {},
   "outputs": [
    {
     "name": "stdout",
     "output_type": "stream",
     "text": [
      "['India', 'is', 'a', 'country', 'in', 'Asia.', 'Capital', 'of', 'India', 'is', 'New', 'Delhi']\n",
      "{'ni', 'yrtnuoc', 'latipaC', 'weN', '.aisA', 'ihleD', 'aidnI', 'fo', 'a', 'si'}\n"
     ]
    }
   ],
   "source": [
    "class reverce():\n",
    "    def split(self):\n",
    "        str1 = 'India:is:a:country:in:Asia.:Capital:of:India:is:New:Delhi'\n",
    "        splited=str1.split(':')\n",
    "        print(splited)\n",
    "        set1=set()\n",
    "        for i in splited:\n",
    "            adding=set1.add(i[::-1])\n",
    "        print(set1)\n",
    "obj=reverce()\n",
    "obj.split()"
   ]
  },
  {
   "cell_type": "code",
   "execution_count": null,
   "metadata": {},
   "outputs": [],
   "source": [
    "1.\n",
    "lst1 = ['Sanjay','Kiran','Anand','Vijay','Anitha']\n",
    "   lst2 = ['Kumar','Rao','Sharma','Kapoor','Prasad']\n",
    "   taken 1 name from lst1 , take another name parallely from list2\n",
    "   add them and store the result in the set\n",
    "   iterate and print the set \n",
    "   find the name having max char\n",
    "   how many names starts with 'A'\n",
    "   pick the name from the set and process how many Surname starts with 'K'"
   ]
  },
  {
   "cell_type": "code",
   "execution_count": 1,
   "metadata": {},
   "outputs": [
    {
     "name": "stdout",
     "output_type": "stream",
     "text": [
      "{'Anitha Prasad', 'Kiran Rao', 'Anand Sharma', 'Sanjay Kumar', 'Vijay Kapoor'}\n",
      "Anitha Prasad\n",
      "Kiran Rao\n",
      "Anand Sharma\n",
      "Sanjay Kumar\n",
      "Vijay Kapoor\n",
      "longest name Anitha Prasad\n",
      "number of names start with A 2\n",
      "['Vijay_Kapoor', 'Sanjay_Kumar', 'Anitha_Prasad', 'Kiran_Rao', 'Anand_Sharma']\n",
      "number of surname start with k 2\n"
     ]
    }
   ],
   "source": [
    "1.\n",
    "class names():\n",
    "    def full_name(self):\n",
    "        lst1 = ['Sanjay','Kiran','Anand','Vijay','Anitha']\n",
    "        lst2 = ['Kumar','Rao','Sharma','Kapoor','Prasad']\n",
    "        self.P_Name_set=set()\n",
    "        for a, b in zip(lst1,lst2):\n",
    "            ele_name_set=a+\" \"+b\n",
    "            self.P_Name_set.add(ele_name_set)\n",
    "        print(self.P_Name_set)\n",
    "    def longest(self):\n",
    "        max_len=0\n",
    "        char='A'\n",
    "        count=0\n",
    "        for i in self.P_Name_set:\n",
    "            print(i)\n",
    "            if len(i)>max_len:\n",
    "                max_len=len(i)\n",
    "                result=i\n",
    "            if i[0].lower()==char.lower():\n",
    "                count+=1\n",
    "            name_split=i.split(\" \")\n",
    "        print(\"longest name\",result)\n",
    "        print(\"number of names start with A\",count)\n",
    "    def surname(self):\n",
    "        p_name_list=list(self.P_Name_set)\n",
    "        l2=[]\n",
    "\n",
    "        for ele in self.P_Name_set:\n",
    "            l2.append(ele.split())\n",
    "        new=[]\n",
    "        for ele in sorted(l2, key=lambda x: x[-1]):\n",
    "             new.append('_'.join(ele))\n",
    "        print(new)\n",
    "        count_k=0\n",
    "        for j in new:\n",
    "            new_split=j.split(\"_\")\n",
    "            surname=new_split[-1]\n",
    "            if surname[0].lower()==\"k\":\n",
    "                count_k+=1\n",
    "        print(\"number of surname start with k\",count_k)\n",
    "name=names()\n",
    "name.full_name()\n",
    "name.longest()\n",
    "name.surname()"
   ]
  },
  {
   "cell_type": "code",
   "execution_count": null,
   "metadata": {},
   "outputs": [],
   "source": [
    "5) explore the string methods like\n",
    "   join, lstrip, swapcase, find, isalpha, isdigit , partition, zfill, title\n",
    "6) given \n",
    "   st1 = '451'\n",
    "   st2 = '34.55'\n",
    "   i = 10\n",
    "   j = 22.5\n",
    "   convert appropriately and add all the numbers....\n",
    "                      **********"
   ]
  },
  {
   "cell_type": "code",
   "execution_count": 144,
   "metadata": {},
   "outputs": [
    {
     "name": "stdout",
     "output_type": "stream",
     "text": [
      "451 <class 'str'>\n",
      "451 <class 'int'>\n",
      "34.55 <class 'float'>\n",
      "[451, 34.55, 10, 22.5]\n",
      "518.05\n"
     ]
    }
   ],
   "source": [
    "6.\n",
    "class integer():\n",
    "    def values(self):\n",
    "        st1 = '451'\n",
    "        st2 = '34.55'\n",
    "        print(int(st1),type(st1))\n",
    "        i = 10\n",
    "        j = 22.5\n",
    "        st11=int(st1)\n",
    "        print(st11,type(st11))\n",
    "        st22=float(st2)\n",
    "        print(st22,type(st22))\n",
    "        lists=[st11,st22,i,j]\n",
    "        print(lists)\n",
    "        print(sum(lists))\n",
    "object=integer()\n",
    "object.values()\n",
    "    \n"
   ]
  },
  {
   "cell_type": "code",
   "execution_count": 122,
   "metadata": {
    "scrolled": true
   },
   "outputs": [
    {
     "name": "stdout",
     "output_type": "stream",
     "text": [
      "join = hello world you are the best\n",
      "% = hello world you are the best\n",
      "format = hello world you are the best\n",
      "u are the best\n",
      "WATER FALLS\n",
      "-1\n",
      "16\n",
      "False\n",
      "False\n",
      "('you are the best', '', '')\n",
      "('you are the best', '', '')\n",
      "hello world\n",
      "Hello World\n"
     ]
    }
   ],
   "source": [
    "5.\n",
    "class strings():\n",
    "    def join(self):\n",
    "        self.st1 = 'hello world'\n",
    "        self.st2 = 'you are the best'\n",
    "        self.i = \"water falls\"\n",
    "        self.j = \"spring season\"\n",
    "        print(\"join =\",\" \".join([self.st1,self.st2]))\n",
    "        print(\"% =\",\"%s %s\"%(self.st1,self.st2))\n",
    "        print(\"format =\",\"{} {}\".format(self.st1,self.st2))\n",
    "    def lstrip(self): \n",
    "        print(self.st2.lstrip(\"yo\"))     #Python String lstrip() method returns a copy of the string \n",
    "    def swapcase(self):                 #with leading characters removed (based on the string argument passed).If no argument is passed, it removes leading spaces.\n",
    "        print(self.i.swapcase())       #The swapcase() method returns a string where all the upper case letters are lower case and vice versa.\n",
    "    def find(self):\n",
    "        sentence=\"Hi World, Sorry for disturbing you\"\n",
    "        print(sentence.find(\"Hi\",3))\n",
    "        print(sentence.find(\"for\",3))\n",
    "    def isalpha(self):\n",
    "        print(self.st1.isalpha())         #The isalpha() method returns True if all the characters are alphabet letters (a-z).\n",
    "    def isdigit(self):\n",
    "        print(self.st1.isdigit())  \n",
    "    def partition(self):                  #The partition() method searches for a specified string, and splits the string into a tuple containing three elements\n",
    "        print(self.st2.partition(\"3\"))\n",
    "        print(self.st2.partition(\"4\"))\n",
    "    def zfill(self):                      #The zfill() method returns a copy of the string with '0' characters padded to the left. It adds zeros (0) at the beginning of the string until the length of a string equals the specified width parameter.\n",
    "        print(self.st1.zfill(10))\n",
    "    def title(self):                      #The title() function in python is the Python String Method which is used to convert the first character in each word to Uppercase and remaining characters to Lowercase in the string and returns a new string\n",
    "        print(self.st1.title())\n",
    "        \n",
    "obj1=strings()        \n",
    "obj1.join()\n",
    "obj1.lstrip()\n",
    "obj1.swapcase()\n",
    "obj1.find()\n",
    "obj1.isalpha()\n",
    "obj1.isdigit()\n",
    "obj1.partition()\n",
    "obj1.zfill()\n",
    "obj1.title()"
   ]
  },
  {
   "cell_type": "code",
   "execution_count": null,
   "metadata": {},
   "outputs": [],
   "source": []
  },
  {
   "cell_type": "code",
   "execution_count": null,
   "metadata": {},
   "outputs": [],
   "source": []
  }
 ],
 "metadata": {
  "kernelspec": {
   "display_name": "Python 3",
   "language": "python",
   "name": "python3"
  },
  "language_info": {
   "codemirror_mode": {
    "name": "ipython",
    "version": 3
   },
   "file_extension": ".py",
   "mimetype": "text/x-python",
   "name": "python",
   "nbconvert_exporter": "python",
   "pygments_lexer": "ipython3",
   "version": "3.8.5"
  }
 },
 "nbformat": 4,
 "nbformat_minor": 4
}
