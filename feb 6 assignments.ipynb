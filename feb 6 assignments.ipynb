{
 "cells": [
  {
   "cell_type": "code",
   "execution_count": null,
   "metadata": {},
   "outputs": [],
   "source": [
    "use lambda, filter concept to solve them\n",
    "sometime you might have to write more than 1 lambda also\n",
    "and use filter , slicing concept too....use it properly.\n"
   ]
  },
  {
   "cell_type": "code",
   "execution_count": null,
   "metadata": {},
   "outputs": [],
   "source": [
    "1.\n",
    "lst1 = [89,12,44,55,67,100,125,23,77,189,21,27,50,75,60,91,80,181,261,300]\n",
    "   -count how many odd elements are there in the list\n",
    "   -sum all the 3 digits odd numbers\n",
    "   -find from position 10th position till end how many even numbers are there\n",
    "   -find in the FIRST half of the list how many numbers are divisible by 5 ONLY\n"
   ]
  },
  {
   "cell_type": "code",
   "execution_count": 1,
   "metadata": {},
   "outputs": [
    {
     "name": "stdout",
     "output_type": "stream",
     "text": [
      "('no of odd', 13, 'sum of 3 digit odd', 756)\n",
      "('even', [50, 60, 80, 300])\n",
      "('%5', [89, 12, 44, 55, 67, 100, 125, 23, 77, 189], [55, 100, 125])\n"
     ]
    }
   ],
   "source": [
    "class odd_even():\n",
    "    def odd(self):\n",
    "        self.lst1 = [89,12,44,55,67,100,125,23,77,189,21,27,50,75,60,91,80,181,261,300]\n",
    "        OddNumbers = list(filter(lambda x: x%2 != 0, self.lst1))\n",
    "        lenh=len(OddNumbers)\n",
    "        self.three_digit_odd=[]\n",
    "        for i in OddNumbers:\n",
    "            if len(str(i))==3:\n",
    "                self.three_digit_odd.append(i)\n",
    "                sum_of_3=sum(self.three_digit_odd)\n",
    "        return (\"no of odd\",lenh,\"sum of 3 digit odd\",sum_of_3,)\n",
    "    def even(self):\n",
    "        sub_list=self.lst1[10:]\n",
    "        self.EvenNumbers = list(filter(lambda x: x%2 == 0, sub_list))\n",
    "        return(\"even\",self.EvenNumbers)\n",
    "    def divisible(self):\n",
    "        length=len(self.lst1)\n",
    "        mid=length//2\n",
    "        halflist=self.lst1[:mid]\n",
    "        divi_5 = list(filter(lambda x: x%5 == 0, halflist))\n",
    "        return(\"%5\",halflist,divi_5) \n",
    "obj=odd_even()\n",
    "print(obj.odd())\n",
    "print(obj.even())\n",
    "print(obj.divisible())\n",
    "\n",
    "        "
   ]
  },
  {
   "cell_type": "code",
   "execution_count": null,
   "metadata": {},
   "outputs": [],
   "source": [
    "2.\n",
    "name1 = ['Ramesh','Ganesh','AnanthaNarayana','Pi','Sui','Kiran','Pankaj','Harish','Asha','Usha','Lata','Rohit','Vignesh','Manoj','Venkat','Vinay','Bindu','Rekha','Sindhu']\n",
    "   -find out how many names end with 'h'\n",
    "   -how many names are there not starting with H or V\n",
    "   -which name is having max char\n",
    "   -Which name is having min char\n",
    "   -How many names have 3rd char with 'n' ?"
   ]
  },
  {
   "cell_type": "code",
   "execution_count": 2,
   "metadata": {},
   "outputs": [
    {
     "name": "stdout",
     "output_type": "stream",
     "text": [
      "('ending with h', 4)\n",
      "('not starting with h or v', 15)\n",
      "('long name =', 'AnanthaNarayana', 'short name =', 'Pi')\n",
      "('n as 3rd character =', 7)\n"
     ]
    }
   ],
   "source": [
    "\n",
    "   ''' using filter() + startswith() + lambda\n",
    "# Prefix Separation\n",
    "with_s = list(filter(lambda x: x.startswith(start_letter), test_list))\n",
    "without_s = list(filter(lambda x: not x.startswith(start_letter), test_list))'''\n",
    "class char():\n",
    "    def start(self):\n",
    "        self.name1 = ['Ramesh','Ganesh','AnanthaNarayana','Pi','Sui','Kiran','Pankaj','Harish','Asha','Usha','Lata','Rohit','Vignesh','Manoj','Venkat','Vinay','Bindu','Rekha','Sindhu']\n",
    "        with_h = list(filter(lambda x: x.endswith(\"h\"), self.name1))\n",
    "        return(\"ending with h\",len(with_h))\n",
    "    def not_start(self): \n",
    "        without_h = list(filter(lambda x: not x.lower().startswith(\"h\"), self.name1))\n",
    "        without_h_v = list(filter(lambda x:  not x.lower().startswith(\"v\"),without_h))\n",
    "        return(\"not starting with h or v\",len(without_h_v))\n",
    "    def max_min(self):\n",
    "        max_char=max(self.name1,key=lambda x: len(x) )\n",
    "        min_char=min(self.name1,key=lambda x: len(x) )\n",
    "        return(\"long name =\",max_char,\"short name =\",min_char)\n",
    "    def nth(self):\n",
    "        length=list(filter(lambda t:len(t)>2,self.name1))\n",
    "        nth_car=list(filter(lambda s:s.lower()[2]==\"n\",length))\n",
    "        return(\"n as 3rd character =\",len(nth_car))\n",
    "    \n",
    "obj1=char()\n",
    "print(obj1.start())\n",
    "print(obj1.not_start())\n",
    "print(obj1.max_min())\n",
    "print(obj1.nth())"
   ]
  },
  {
   "cell_type": "code",
   "execution_count": null,
   "metadata": {},
   "outputs": [],
   "source": [
    "do the following with normal function call ,have variables with default values\n",
    "where needed\n",
    "3)  Find the area of the circle given PIE is 3.14,  PIE x radius x radius\n",
    "    Find the circ of the circle 2 x PIE x radius "
   ]
  },
  {
   "cell_type": "code",
   "execution_count": 4,
   "metadata": {},
   "outputs": [
    {
     "name": "stdout",
     "output_type": "stream",
     "text": [
      "enter radius2\n",
      "12.56 cm^2\n",
      "12.56\n"
     ]
    }
   ],
   "source": [
    "class circle():\n",
    "    def area(self,radius,pie=3.14):\n",
    "        self.radius=radius\n",
    "        self.pie=pie\n",
    "        area=self.pie*self.radius*self.radius\n",
    "        return (str(area)+\" \"+\"cm^2\")\n",
    "    def circ(self):\n",
    "        circum=2*self.pie*self.radius\n",
    "        return(circum)\n",
    "obj2=circle()\n",
    "print(obj2.area(int(input(\"enter radius\"))))\n",
    "print(obj2.circ())\n",
    "        "
   ]
  },
  {
   "cell_type": "code",
   "execution_count": null,
   "metadata": {},
   "outputs": [],
   "source": [
    "4)  calculate the speed if the distance to be travelled is 200 km by default\n",
    "    also by default the time taken is 3 hrs by default\n",
    "    speed = distance travelled / time taken"
   ]
  },
  {
   "cell_type": "code",
   "execution_count": 5,
   "metadata": {},
   "outputs": [
    {
     "data": {
      "text/plain": [
       "'66.66666666666667 km/h'"
      ]
     },
     "execution_count": 5,
     "metadata": {},
     "output_type": "execute_result"
    }
   ],
   "source": [
    "class cal():\n",
    "    def speed(self,distance=200,time=3):\n",
    "        speed=distance / time\n",
    "        return (str(speed)+\" km/h\")\n",
    "obj3=cal()\n",
    "obj3.speed()"
   ]
  },
  {
   "cell_type": "code",
   "execution_count": null,
   "metadata": {},
   "outputs": [],
   "source": [
    "5)  normally the person buys by default the following :\n",
    "    1 kg of apple costing 140 rs / kg\n",
    "    500 gms of orange costing 120 rs / kg\n",
    "    -calculate the apple cost purchased, orange cost purchased\n",
    "      and also the total bill cost\n",
    "    by default there is no discount but if the total bill cost crosses more than\n",
    "500 Rs then there is 5% discount and if it crosses 1000 Rs then there is 8% discount\n",
    "\n",
    "the below one with regular style of coding...using functions...\n"
   ]
  },
  {
   "cell_type": "code",
   "execution_count": 6,
   "metadata": {},
   "outputs": [
    {
     "name": "stdout",
     "output_type": "stream",
     "text": [
      "how much apple3\n",
      "enter 1 for kg,enter 2 for gram1\n",
      "420\n",
      "how much orange3\n",
      "enter 1 for kg,enter 2 for gram1\n",
      "360\n",
      "('amount', (741.0, '5% discount'))\n"
     ]
    }
   ],
   "source": [
    "class shoping():\n",
    "    def items(self):\n",
    "        self.appl_kg=140\n",
    "        self.orange_kg=120\n",
    "    def apple(self):\n",
    "        apple=[int(input(\"how much apple\")),int(input(\"enter 1 for kg,enter 2 for gram\"))]\n",
    "        if apple[-1]==1:\n",
    "            apple_price=(apple[0]*self.appl_kg)\n",
    "        elif apple[-1]==2:\n",
    "            apple_price=((apple[0]/1000)*self.appl_kg)\n",
    "        else:\n",
    "            apple_price=\"enter valid quantity\"\n",
    "        self.apple_price=apple_price\n",
    "        return self.apple_price\n",
    "    def orange(self):\n",
    "        orange=[int(input('how much orange')),int(input(\"enter 1 for kg,enter 2 for gram\"))]\n",
    "        if orange[-1]==1:\n",
    "            orange_price=(orange[0]*self.orange_kg)\n",
    "        elif orange[-1]==2:\n",
    "            orange_price=((orange[0]/1000)*self.orange_kg)\n",
    "        else:\n",
    "            orange_price=\"enter valid quantity\"\n",
    "        self.orange_price=orange_price\n",
    "        return self.orange_price\n",
    "    def total_discount(self):\n",
    "        d=True\n",
    "        while d:\n",
    "            if self.orange_price == str(self.orange_price):\n",
    "                break\n",
    "            if self.apple_price==str(self.apple_price):\n",
    "                break\n",
    "                d=False\n",
    "        \n",
    "    \n",
    "            total_purchase=self.orange_price+self.apple_price\n",
    "            if total_purchase>1000:\n",
    "                total_amount=(total_purchase-((8/100)*total_purchase),\"8% discount\")\n",
    "            elif total_purchase>500:\n",
    "                total_amount=(total_purchase-((5/100)*total_purchase),\"5% discount\")\n",
    "            else:\n",
    "                total_amount=(total_purchase)\n",
    "            return (\"amount\",total_amount)\n",
    "    \n",
    "        \n",
    "        \n",
    "obj4=shoping()\n",
    "obj4.items()\n",
    "print(obj4.apple())\n",
    "print(obj4.orange())\n",
    "print(obj4.total_discount())\n",
    "        \n",
    "        "
   ]
  },
  {
   "cell_type": "code",
   "execution_count": null,
   "metadata": {},
   "outputs": [],
   "source": [
    "\n",
    "6)  create a dict called emp which has the following :-\n",
    "    empid   name and salary\n",
    "    e100   [Manoj Kumar, 50000]\n",
    "    Keep adding till the user type -EXIT to STOP\n",
    "    display all the details from the dict....\n",
    "    then ask the user to enter the emp id or type EXIT to stop\n",
    "    if the emp id is there then display the emp details\n",
    "    otherwise display no such emp id exists\n",
    "    finally display the emp details with\n",
    "    highest salary\n",
    "    lowest salary"
   ]
  },
  {
   "cell_type": "code",
   "execution_count": 20,
   "metadata": {},
   "outputs": [
    {
     "name": "stdout",
     "output_type": "stream",
     "text": [
      "enter id1\n",
      "enter nameq\n",
      "enter salary11\n",
      "type exit to stop or just enter\n",
      "enter id2\n",
      "enter names\n",
      "enter salary22\n",
      "type exit to stop or just enter\n",
      "enter id3\n",
      "enter namee\n",
      "enter salary33\n",
      "type exit to stop or just enter\n",
      "enter id4\n",
      "enter namer\n",
      "enter salary44\n",
      "type exit to stop or just enter\n",
      "enter id5\n",
      "enter namef\n",
      "enter salary55\n",
      "type exit to stop or just entereit\n",
      "enter id6\n",
      "enter namey\n",
      "enter salary66\n",
      "type exit to stop or just enterexit\n",
      "enter the id to get details4\n",
      "('dictionary =', {1: ['q', 11], 2: ['s', 22], 3: ['e', 33], 4: ['r', 44], 5: ['f', 55], 6: ['y', 66]}, 'emp details =', 4, ['r', 44])\n"
     ]
    }
   ],
   "source": [
    "class dic():\n",
    "    def emp(self):\n",
    "        dic={}\n",
    "        j=True\n",
    "        while j:\n",
    "            dic1={int(input(\"enter id\")):[str(input(\"enter name\")),int(input(\"enter salary\"))]}\n",
    "            inp=str(input(\"type exit to stop or just enter\"))\n",
    "            dic.update(dic1)\n",
    "            if inp==\"exit\":\n",
    "                j=False\n",
    "        which=int(input(\"enter the id to get details\"))\n",
    "        return (\"dictionary =\",dic,\"emp details =\",which,dic[which])\n",
    "obj5=dic()\n",
    "print(obj5.emp())\n"
   ]
  },
  {
   "cell_type": "code",
   "execution_count": 21,
   "metadata": {},
   "outputs": [
    {
     "name": "stdout",
     "output_type": "stream",
     "text": [
      "enter id1\n",
      "enter namef\n",
      "enter salary44\n",
      "type exit to stop or just enter\n",
      "enter id6\n",
      "enter namett\n",
      "enter salary99\n",
      "type exit to stop or just enter\n",
      "enter id49\n",
      "enter namejjk\n",
      "enter salary564\n",
      "type exit to stop or just enterexit\n",
      "enter the id to get details49\n",
      "['jjk', 564]\n",
      "{1: ['f', 44], 6: ['tt', 99], 49: ['jjk', 564]}\n"
     ]
    }
   ],
   "source": [
    "class dic={}\n",
    "j=True\n",
    "while j:\n",
    "    dic1={int(input(\"enter id\")):[str(input(\"enter name\")),int(input(\"enter salary\"))]}\n",
    "    inp=str(input(\"type exit to stop or just enter\"))\n",
    "    dic.update(dic1)\n",
    "    if inp==\"exit\":\n",
    "        j=False\n",
    "which=int(input(\"enter the id to get details\"))\n",
    "print(dic[which])\n",
    "print(dic)"
   ]
  },
  {
   "cell_type": "code",
   "execution_count": null,
   "metadata": {},
   "outputs": [],
   "source": []
  },
  {
   "cell_type": "code",
   "execution_count": null,
   "metadata": {},
   "outputs": [],
   "source": []
  },
  {
   "cell_type": "code",
   "execution_count": null,
   "metadata": {},
   "outputs": [],
   "source": [
    "d={'j':[str(input()),int(input())]}\n",
    "d.keys()"
   ]
  },
  {
   "cell_type": "code",
   "execution_count": null,
   "metadata": {},
   "outputs": [],
   "source": []
  }
 ],
 "metadata": {
  "kernelspec": {
   "display_name": "Python 3",
   "language": "python",
   "name": "python3"
  },
  "language_info": {
   "codemirror_mode": {
    "name": "ipython",
    "version": 3
   },
   "file_extension": ".py",
   "mimetype": "text/x-python",
   "name": "python",
   "nbconvert_exporter": "python",
   "pygments_lexer": "ipython3",
   "version": "3.8.5"
  }
 },
 "nbformat": 4,
 "nbformat_minor": 4
}
