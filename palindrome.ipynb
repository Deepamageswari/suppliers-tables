{
 "cells": [
  {
   "cell_type": "code",
   "execution_count": 1,
   "metadata": {},
   "outputs": [
    {
     "data": {
      "text/plain": [
       "('longest palindrom in the above sentence is',\n",
       " 'redivider',\n",
       " ['madam', 'liril', 'redivider'])"
      ]
     },
     "execution_count": 1,
     "metadata": {},
     "output_type": "execute_result"
    }
   ],
   "source": [
    "def func1():\n",
    "    sentence=\"mysore bangalore madam plane liril river redivider\"\n",
    "    word=sentence.split(\" \")\n",
    "    lis1=[]\n",
    "    theword=\"some\"\n",
    "    length=1\n",
    "    for i in word:\n",
    "        if i==i[::-1]:\n",
    "            lis1.append(i)\n",
    "    for j in lis1:\n",
    "        if len(j)>length:\n",
    "            length=len(j)\n",
    "            result=j\n",
    "    return (\"longest palindrom in the above sentence is\",result,lis1)\n",
    "func1()\n"
   ]
  },
  {
   "cell_type": "code",
   "execution_count": null,
   "metadata": {},
   "outputs": [],
   "source": []
  }
 ],
 "metadata": {
  "kernelspec": {
   "display_name": "Python 3",
   "language": "python",
   "name": "python3"
  },
  "language_info": {
   "codemirror_mode": {
    "name": "ipython",
    "version": 3
   },
   "file_extension": ".py",
   "mimetype": "text/x-python",
   "name": "python",
   "nbconvert_exporter": "python",
   "pygments_lexer": "ipython3",
   "version": "3.8.5"
  }
 },
 "nbformat": 4,
 "nbformat_minor": 4
}
