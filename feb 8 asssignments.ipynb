{
 "cells": [
  {
   "cell_type": "code",
   "execution_count": null,
   "metadata": {},
   "outputs": [],
   "source": [
    "use global variables, functions, lambda , filter , reduce, map etc where ever needed\n",
    "it could be used in combinations too\n",
    "1) declare 2 gloabal variables\n",
    "   a = 10\n",
    "   b = 18\n",
    "   call method change_1() here increase a by adding 4 , use lambda\n",
    "   call method change_2() here increase b by adding 10 , use lambda\n",
    "   call  method change_3() here double the value of a and triple the value of b\n",
    "   use lambda\n",
    "   call display() and print a and b"
   ]
  },
  {
   "cell_type": "code",
   "execution_count": null,
   "metadata": {},
   "outputs": [],
   "source": [
    "a = 10\n",
    "b = 18\n",
    "class acc_globe():\n",
    "    def change_1(self):\n",
    "        self.c=lambda a:a+4\n",
    "    def change_2(self):\n",
    "        self.d=lambda b:b+10\n",
    "    def change_3(self):\n",
    "        self.e=lambda a:a*2\n",
    "        self.f=lambda b: b*3\n",
    "    def display(self):\n",
    "        print (self.c(a),'\\n',self.d(b),'\\n',self.e(a),'\\n',self.f(b))\n",
    "obj1=acc_globe()\n",
    "obj1.change_1()\n",
    "obj1.change_2()\n",
    "obj1.change_3()\n",
    "obj1.display()"
   ]
  },
  {
   "cell_type": "code",
   "execution_count": null,
   "metadata": {},
   "outputs": [],
   "source": [
    "2) have a global variable,  list1 = [10,33,45,67,90]\n",
    "   have 3 global variables a=47 , b = 75, c = 33\n",
    "   write a method add_1() here add to list1 the contents of a and b\n",
    "   write a method edit_1() here find whether c is there and if it is there then \n",
    "   replace the element in the list1 with the sum of a and b\n",
    "   call a method change_1() , use map alter all the elements by adding 3 to them\n",
    "   call a method display() , display all the elements of list1\n",
    "   use reduce to sum all the elements and print the sum\n"
   ]
  },
  {
   "cell_type": "code",
   "execution_count": null,
   "metadata": {},
   "outputs": [],
   "source": [
    "import functools\n",
    "list1 = [10,33,45,67,90]\n",
    "a=47\n",
    "b=75\n",
    "c=33\n",
    "class global2():\n",
    "    def add_1(self):\n",
    "        p=list1.append(a)\n",
    "        list1.append(b)\n",
    "        return list1\n",
    "    def edit_1(self):\n",
    "        if c in list1:\n",
    "            list1[list1.index(c)]=(a+b)\n",
    "        return list1\n",
    "    def change_1(self):\n",
    "        altered_list1=map(lambda x: x+3,list1)\n",
    "        self.list11=list(altered_list1)\n",
    "        return self.list11\n",
    "    def display(self):\n",
    "        print(\"list1 =\",list1,'\\n',\"altered_list =\",self.list11)\n",
    "        sum_list1=functools.reduce(lambda a,b:a+b,self.list11)\n",
    "        sum2_list1=functools.reduce(lambda a,b:a+b,list1)\n",
    "        return sum_list1,sum2_list1\n",
    "        \n",
    "        \n",
    "            \n",
    "obj2=global2()\n",
    "print(obj2.add_1())\n",
    "print(obj2.edit_1())\n",
    "print(obj2.change_1())\n",
    "print(obj2.display())"
   ]
  },
  {
   "cell_type": "code",
   "execution_count": null,
   "metadata": {},
   "outputs": [],
   "source": [
    " 3) have a global variable set1 = { 56,23,69,100}\n",
    "   call a method test_1() here there is tup1 = (54,25,77) add all the elements \n",
    "   to set1\n",
    "   call a method test_2() here there is tup1 = (100,21,26,69) , delete these elements\n",
    "   in set1 if it exists fetching it from tup1\n",
    "   call a display method there use map, lambda to increase each element by 15% of it value ie. if the number\n",
    "   is 56 then add 15% of 56 to it.\n",
    "   display all the elements from set1"
   ]
  },
  {
   "cell_type": "code",
   "execution_count": 3,
   "metadata": {},
   "outputs": [
    {
     "name": "stdout",
     "output_type": "stream",
     "text": [
      "{100, 69, 77, 54, 23, 56, 25}\n",
      "(21, 26)\n",
      "('lambda,map', [115.0, 79.35, 88.55, 62.1, 26.45, 64.4, 28.75], '56 + 15% of 56 =', 64.4, 'elements of set1', {100, 69, 77, 54, 23, 56, 25})\n"
     ]
    }
   ],
   "source": [
    "set1 = { 56,23,69,100}\n",
    "class global2():\n",
    "    def test_1(self):\n",
    "        tup1=54,25,77\n",
    "        for i in tup1:\n",
    "            set1.add(i)\n",
    "        return(set1)\n",
    "    def test_2(self):\n",
    "        tup1=(100,21,26,69)\n",
    "        for i in tup1:\n",
    "            if i in set1:\n",
    "                k=i\n",
    "                new_tup1=tup1[:tup1.index(k)]+tup1[tup1.index(k)+1:]\n",
    "        for j in new_tup1:\n",
    "            if j in set1:\n",
    "                l=j\n",
    "                g=new_tup1[:new_tup1.index(l)]+new_tup1[new_tup1.index(l)+1:]\n",
    "        return g\n",
    "    def display(self):\n",
    "        lam=list(map(lambda x:x+(15/100*x),set1))\n",
    "        for i in set1:\n",
    "            if i==56:\n",
    "                fifty_six=i+15/100*i\n",
    "        return (\"lambda,map\",lam,\"56 + 15% of 56 =\",fifty_six,\"elements of set1\",set1)\n",
    "        \n",
    "                \n",
    "               \n",
    "                \n",
    "obj3=global2()\n",
    "print(obj3.test_1())\n",
    "print(obj3.test_2())\n",
    "print(obj3.display())"
   ]
  },
  {
   "cell_type": "code",
   "execution_count": 35,
   "metadata": {},
   "outputs": [
    {
     "data": {
      "text/plain": [
       "250.0"
      ]
     },
     "execution_count": 35,
     "metadata": {},
     "output_type": "execute_result"
    }
   ],
   "source": [
    "10/100*2500 #list(map(lambda n: n * 2, [1, 2, 3, 4, 5]))"
   ]
  },
  {
   "cell_type": "code",
   "execution_count": null,
   "metadata": {},
   "outputs": [],
   "source": [
    "from collections import Counter\n",
    " \n",
    "# declaring the list\n",
    "l = [1, 1, 2, 2, 3, 3, 4, 4, 5, 5]\n",
    " \n",
    "# driver program\n",
    "x = 3\n",
    "d = Counter(l)"
   ]
  },
  {
   "cell_type": "code",
   "execution_count": null,
   "metadata": {},
   "outputs": [],
   "source": []
  }
 ],
 "metadata": {
  "kernelspec": {
   "display_name": "Python 3",
   "language": "python",
   "name": "python3"
  },
  "language_info": {
   "codemirror_mode": {
    "name": "ipython",
    "version": 3
   },
   "file_extension": ".py",
   "mimetype": "text/x-python",
   "name": "python",
   "nbconvert_exporter": "python",
   "pygments_lexer": "ipython3",
   "version": "3.8.5"
  }
 },
 "nbformat": 4,
 "nbformat_minor": 4
}
